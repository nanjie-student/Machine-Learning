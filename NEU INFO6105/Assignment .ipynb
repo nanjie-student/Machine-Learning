{
 "cells": [
  {
   "cell_type": "code",
   "execution_count": 1,
   "metadata": {},
   "outputs": [
    {
     "name": "stdout",
     "output_type": "stream",
     "text": [
      "QuinTESSential\n"
     ]
    }
   ],
   "source": [
    "'''\n",
    "If x = \"quintessential\", then slice x and do \n",
    "the appropriate operations to obtain QuinTESSential.\n",
    "'''\n",
    "x = \"quintessential\"\n",
    "Alist =x[0:1:1]\n",
    "Blist=x[4:8:1]\n",
    "Clist =x[1:4:1]\n",
    "Dlist =x[8:14:1]\n",
    "print(Alist.upper() + Clist +Blist.upper() +Dlist)"
   ]
  },
  {
   "cell_type": "code",
   "execution_count": 2,
   "metadata": {},
   "outputs": [
    {
     "name": "stdout",
     "output_type": "stream",
     "text": [
      "computer\n"
     ]
    }
   ],
   "source": [
    "'''\n",
    "Write a Python program to select an item randomly from a list.\n",
    "'''\n",
    "import random\n",
    "item_list =['computer','phone','pen','cup']\n",
    "print(random.choice(item_list))"
   ]
  },
  {
   "cell_type": "code",
   "execution_count": 3,
   "metadata": {},
   "outputs": [
    {
     "name": "stdout",
     "output_type": "stream",
     "text": [
      "[12, 14, 16, 18, 19, 20, 24]\n",
      "[12, 14, 16, 18, 20, 24]\n",
      "[12, 14, 16, 18, 20, 24, 28, 30]\n"
     ]
    }
   ],
   "source": [
    "'''\n",
    ": Consider listA = [12, 14, 16, 19, 20, 24]. \n",
    "1) To listA add 18 at index 3 \n",
    "2) To the list that was obtained from #1, remove 19\n",
    "3) To the list that was obtained from #2, extend [28, 30]\n",
    "'''\n",
    "listA =[12,14,16,19,20,24]\n",
    "listA.insert(3,18)\n",
    "print(listA)\n",
    "listA.remove(19)\n",
    "print(listA)\n",
    "listA +=[28,30]\n",
    "print(listA)"
   ]
  },
  {
   "cell_type": "code",
   "execution_count": 5,
   "metadata": {},
   "outputs": [
    {
     "name": "stdout",
     "output_type": "stream",
     "text": [
      "[24, 32]\n",
      "[24]\n",
      "[24, 32]\n",
      "[24]\n"
     ]
    }
   ],
   "source": [
    "'''\n",
    "B = [14, 21, 24, 27, 32]. \n",
    "1) Create a list that contains the multiples of 4 from B.\n",
    "2) Create a list that contains the multiples of 3 and 6.\n",
    "Use two methods (for and if loops,  list comprehension)\n",
    "'''\n",
    "import numpy as np\n",
    "B =np.array([14,21,24,27,32])\n",
    "listA = []\n",
    "listB =[]\n",
    "for i in B:\n",
    "    if i % 4 == 0:\n",
    "        listA.append(i)\n",
    "    if (i % 3 == 0) & (i % 6 == 0):\n",
    "        listB.append(i)\n",
    "print(listA)\n",
    "print(listB)\n",
    "#method2: list comprehension\n",
    "B =[14,21,24,27,32]\n",
    "newListA =[x for x in B if x % 4 == 0]\n",
    "newListB =[x for x in B if (x %3 == 0) & (x % 6 ==0)]\n",
    "print(newListA)\n",
    "print(newListB)"
   ]
  },
  {
   "cell_type": "code",
   "execution_count": 6,
   "metadata": {},
   "outputs": [
    {
     "name": "stdout",
     "output_type": "stream",
     "text": [
      "(5, -4, -2, -1)\n"
     ]
    }
   ],
   "source": [
    "'''\n",
    ": If tuple1 = (-4, -2, -1). Insert 5 at index 0 to tuple1.\n",
    "Read the output message carefully. \n",
    "'''\n",
    "n = 0\n",
    "tuple1 = (-4, -2, -1)\n",
    "tuple1 =tuple1[:n]+(5,)+tuple1[n:]\n",
    "print(tuple1)"
   ]
  },
  {
   "cell_type": "code",
   "execution_count": 7,
   "metadata": {},
   "outputs": [
    {
     "name": "stdout",
     "output_type": "stream",
     "text": [
      "[-5, -2, -1, 1]\n",
      "[-5, -1, 1]\n",
      "[-5, -1, 1, -3]\n",
      "(-5, -1, 1, -3)\n"
     ]
    }
   ],
   "source": [
    "'''\n",
    " Convert tuple1 = (-4, -2, -1, 1) to a list and perform the \n",
    "following operations:\n",
    "1) To the list, change the value index 0 to -5.\n",
    "2) To the list that was obtained in #1, pop the value at index 1.\n",
    "3) To the list that was obtained from #2, append -3.\n",
    "4) Convert the list that was obtained in #3 to a tuple.\n",
    "'''\n",
    "tuple1 = (-4, -2, -1, 1)\n",
    "list1 = list(tuple1)\n",
    "list1[0]=-5\n",
    "print(list1)\n",
    "list2 = list1.pop(1)\n",
    "print(list1)\n",
    "list1.append(-3)\n",
    "print(list1)\n",
    "tuple1 =tuple(list1)\n",
    "print(tuple1)"
   ]
  },
  {
   "cell_type": "code",
   "execution_count": 8,
   "metadata": {},
   "outputs": [
    {
     "name": "stdout",
     "output_type": "stream",
     "text": [
      "France 1789\n",
      "India 1947\n",
      "USA 1776\n",
      "Brazil 1822\n"
     ]
    }
   ],
   "source": [
    "'''\n",
    " Define a dictionary with the following key value pairs:\n",
    "'France': 1789, 'India': 1947, 'USA': 1776, 'Brazil': 1822\n",
    "print the keys and values pair\n",
    "'''\n",
    "dictionary={'France': 1789, 'India': 1947, 'USA': 1776, 'Brazil': 1822}\n",
    "for key,value in dictionary.items():\n",
    "    print(key,value)"
   ]
  },
  {
   "cell_type": "code",
   "execution_count": 9,
   "metadata": {},
   "outputs": [
    {
     "name": "stdout",
     "output_type": "stream",
     "text": [
      "{2: 8, 14: 2744, 16: 4096, 28: 21952}\n"
     ]
    }
   ],
   "source": [
    "'''\n",
    "listA = [2, 14, 16, 38]. Use dictionary comprehension to \n",
    "create a dictionary with item from listA as a key and its cube as a value.\n",
    "'''\n",
    "listA =[2,14,16,28]\n",
    "listB =[]\n",
    "for i in listA:\n",
    "    listB.append(i ** 3)\n",
    "#print(listB)\n",
    "dictionary = dict(zip(listA,listB))\n",
    "print(dictionary)"
   ]
  },
  {
   "cell_type": "code",
   "execution_count": 10,
   "metadata": {},
   "outputs": [
    {
     "name": "stdout",
     "output_type": "stream",
     "text": [
      "{'White', 'Black'}\n"
     ]
    }
   ],
   "source": [
    "'''\n",
    "Write a Python program to print out a set containing all the colors from color_list_1 which are not present in color_list_2.\n",
    "\n",
    "Test Data:\n",
    "color_list_1 = set([\"White\", \"Black\", \"Red\"])\n",
    "color_list_2 = set([\"Red\", \"Green\"])\n",
    "Expected Output :\n",
    "{'Black', 'White'}\n",
    "'''\n",
    "color_list_1 = set([\"White\", \"Black\", \"Red\"])\n",
    "color_list_2 = set([\"Red\", \"Green\"])\n",
    "print(color_list_1 -color_list_2)\n"
   ]
  },
  {
   "cell_type": "code",
   "execution_count": 11,
   "metadata": {},
   "outputs": [
    {
     "name": "stdout",
     "output_type": "stream",
     "text": [
      "{'iron': 3, 'copper': 2, 'aluminum': 1}\n"
     ]
    }
   ],
   "source": [
    "'''\n",
    "listB=['iron','copper','iron','aluminum','copper', 'iron'].\n",
    "1) Create a set for listB. \n",
    "2) Create a dictionary with the item from the set as the key and its occurence \n",
    "in listB as the value.\n",
    "'''\n",
    "listB=['iron','copper','iron','aluminum','copper', 'iron']\n",
    "setB =set(listB)\n",
    "dict={}\n",
    "for i in listB:\n",
    "    dict[i] = dict.get(i,0)+ 1\n",
    "print(dict)"
   ]
  },
  {
   "cell_type": "code",
   "execution_count": 12,
   "metadata": {},
   "outputs": [
    {
     "name": "stdout",
     "output_type": "stream",
     "text": [
      "{81, 49, 121}\n"
     ]
    }
   ],
   "source": [
    "'''\n",
    ": If listC = [-7, -11, -9, -7]. Use set comprehension \n",
    "to compute square of each item in listC.\n",
    "'''\n",
    "import numpy as np\n",
    "listC = [-7, -11, -9, -7]\n",
    "newSet={i**2 for i in listC}\n",
    "print(newSet)"
   ]
  },
  {
   "cell_type": "code",
   "execution_count": null,
   "metadata": {},
   "outputs": [],
   "source": []
  }
 ],
 "metadata": {
  "kernelspec": {
   "display_name": "Python 3 (ipykernel)",
   "language": "python",
   "name": "python3"
  },
  "language_info": {
   "codemirror_mode": {
    "name": "ipython",
    "version": 3
   },
   "file_extension": ".py",
   "mimetype": "text/x-python",
   "name": "python",
   "nbconvert_exporter": "python",
   "pygments_lexer": "ipython3",
   "version": "3.9.7"
  }
 },
 "nbformat": 4,
 "nbformat_minor": 4
}
