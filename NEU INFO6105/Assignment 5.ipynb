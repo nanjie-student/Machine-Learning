{
 "cells": [
  {
   "cell_type": "code",
   "execution_count": 1,
   "id": "cf9cd99f",
   "metadata": {},
   "outputs": [],
   "source": [
    "import numpy as np\n",
    "import pandas as pd\n",
    "import matplotlib.pyplot as plt"
   ]
  },
  {
   "cell_type": "markdown",
   "id": "bea46112",
   "metadata": {},
   "source": [
    "What is machine learning? Where and why \n",
    "you will use machine learning? "
   ]
  },
  {
   "cell_type": "code",
   "execution_count": null,
   "id": "8cee69dc",
   "metadata": {},
   "outputs": [],
   "source": [
    "1.What is machine learning?\n",
    "Machine learning is a technique of predicting the future or classifying information to help people in\n",
    "making necessary decisions.\n",
    "2.Where we will use machine learning?\n",
    "We use machine learning:1.Recommendation engines 2.Fraud detection 3.Prediction of equipment failures 4.Web search result \n",
    "    5.Email spam filtering\n",
    "3.Why we will use machine learning?\n",
    "Because it gives enterprises a view of trends in customer behavior and business operational patterns, as well as supports the \n",
    "development of new products."
   ]
  },
  {
   "cell_type": "markdown",
   "id": "447d90d6",
   "metadata": {},
   "source": [
    "What is normalization and why do you \n",
    "perform? Explain with examples. How do you  \n",
    "perform it? "
   ]
  },
  {
   "cell_type": "code",
   "execution_count": null,
   "id": "75e50011",
   "metadata": {},
   "outputs": [],
   "source": [
    "   "
   ]
  },
  {
   "cell_type": "markdown",
   "id": "f51c7fa3",
   "metadata": {},
   "source": [
    "What is supervised and unsupervised learning? Give some examples "
   ]
  },
  {
   "cell_type": "code",
   "execution_count": null,
   "id": "91741c25",
   "metadata": {},
   "outputs": [],
   "source": [
    "Supervised learning Algorithms are trained with labeled instances, as if the desired output is known as the input. \n",
    "For example, a device can have data points marked \"F\" (fail) or \"R\" (run). The learning algorithm receives a series \n",
    "of inputs with corresponding correct outputs, and the algorithm learns to find errors by comparing the actual output \n",
    "with the correct output. Then modify the model accordingly. Through the methods of classification, regression, \n",
    "prediction, and gradient boosting, supervised learning uses patterns to predict the value of labels for additional \n",
    "unlabeled data. Supervised learning is widely used to predict possible future events using historical data. For \n",
    "example, it can predict when a credit card transaction might be fraudulent, or which insurance customer might make \n",
    "a claim.\n",
    "Unsupervised learning uses opposite data without historical labels. The system will not be told the \"correct answer\".\n",
    "The algorithm has to figure out what is being presented. The goal is to explore the data and find some internal \n",
    "structure. Unsupervised learning works well with transactional data. For example, it can identify groups of customers\n",
    "with the same attributes (which can be treated the same in marketing). Or it can find the main attributes that \n",
    "differentiate the customer base from each other. Popular techniques include self-organizing maps, nearest-neighbor\n",
    "mapping, k-means clustering, and singular value decomposition. These algorithms are also used to segment text topics,\n",
    "recommend items, and identify data outliers."
   ]
  },
  {
   "cell_type": "markdown",
   "id": "3527c892",
   "metadata": {},
   "source": []
  },
  {
   "cell_type": "code",
   "execution_count": 2,
   "id": "cdcf2b89",
   "metadata": {},
   "outputs": [],
   "source": [
    "#Change the path of the file location appropriately\n",
    "\n",
    "df = pd.read_csv(\"WorldRecords_1.csv\",encoding = 'latin')"
   ]
  },
  {
   "cell_type": "code",
   "execution_count": 5,
   "id": "f15e14f7",
   "metadata": {},
   "outputs": [
    {
     "name": "stdout",
     "output_type": "stream",
     "text": [
      "data shape: (285, 7)\n",
      "data type: <class 'pandas.core.frame.DataFrame'>\n",
      "<class 'pandas.core.frame.DataFrame'>\n",
      "RangeIndex: 285 entries, 0 to 284\n",
      "Data columns (total 7 columns):\n",
      " #   Column       Non-Null Count  Dtype  \n",
      "---  ------       --------------  -----  \n",
      " 0   Event        285 non-null    object \n",
      " 1   Type         285 non-null    object \n",
      " 2   Record       285 non-null    float64\n",
      " 3   Athlete      285 non-null    object \n",
      " 4   Nationality  285 non-null    object \n",
      " 5   Location     285 non-null    object \n",
      " 6   Year         285 non-null    int64  \n",
      "dtypes: float64(1), int64(1), object(5)\n",
      "memory usage: 15.7+ KB\n",
      "None\n"
     ]
    }
   ],
   "source": [
    "'''  \n",
    "Q1 print the basic information about the data set\n",
    "'''\n",
    "print(\"data shape:\",df.shape)\n",
    "print(\"data type:\",type(df))\n",
    "print(df.info())"
   ]
  },
  {
   "cell_type": "code",
   "execution_count": 6,
   "id": "cb95fbb5",
   "metadata": {},
   "outputs": [
    {
     "name": "stdout",
     "output_type": "stream",
     "text": [
      "data types of events: 10\n"
     ]
    }
   ],
   "source": [
    "'''\n",
    "Q2 How many different types of events (e.g. “Mens 100m”, “Womens shotput” etc) are represented in the dataset\n",
    "'''\n",
    "print(\"data types of events:\",df['Event'].nunique())"
   ]
  },
  {
   "cell_type": "code",
   "execution_count": 7,
   "id": "df96e7a4",
   "metadata": {},
   "outputs": [
    {
     "name": "stdout",
     "output_type": "stream",
     "text": [
      "14    2008\n",
      "15    2008\n",
      "16    2009\n",
      "Name: Year, dtype: int64\n",
      "the first break record: 2008\n"
     ]
    }
   ],
   "source": [
    "'''\n",
    "Q3. In what year did Usain Bolt first break the world record for the Men’s 100m?\n",
    "\n",
    "'''\n",
    "print(df.loc[df['Athlete']=='Usain Bolt']['Year'])\n",
    "print(\"the first break record:\",'2008')"
   ]
  },
  {
   "cell_type": "code",
   "execution_count": 8,
   "id": "c376eaaa",
   "metadata": {},
   "outputs": [
    {
     "name": "stdout",
     "output_type": "stream",
     "text": [
      "              Event      Type  Record             Athlete Nationality  \\\n",
      "205    Mens Shotput  distance   17.68    Charlie Fonville         USA   \n",
      "206    Mens Shotput  distance   17.79           Jim Fuchs         USA   \n",
      "207    Mens Shotput  distance   17.82           Jim Fuchs         USA   \n",
      "208    Mens Shotput  distance   17.90           Jim Fuchs         USA   \n",
      "209    Mens Shotput  distance   17.95           Jim Fuchs         USA   \n",
      "..              ...       ...     ...                 ...         ...   \n",
      "280  Womens Shotput  distance   22.36     Ilona Slupianek         GDR   \n",
      "281  Womens Shotput  distance   22.45     Ilona Slupianek         GDR   \n",
      "282  Womens Shotput  distance   22.53  Natalya Lisovskaya         URS   \n",
      "283  Womens Shotput  distance   22.60  Natalya Lisovskaya         URS   \n",
      "284  Womens Shotput  distance   22.63  Natalya Lisovskaya         URS   \n",
      "\n",
      "                  Location  Year  \n",
      "205         Lawrence, U.S.  1948  \n",
      "206           Oslo, Norway  1949  \n",
      "207      Los Angeles, U.S.  1950  \n",
      "208          Visby, Sweden  1950  \n",
      "209     Eskilstuna, Sweden  1950  \n",
      "..                     ...   ...  \n",
      "280      Celje, Yugoslavia  1980  \n",
      "281  Potsdam, East Germany  1980  \n",
      "282    Sochi, Soviet Union  1984  \n",
      "283   Moscow, Soviet Union  1987  \n",
      "284   Moscow, Soviet Union  1987  \n",
      "\n",
      "[80 rows x 7 columns]\n"
     ]
    }
   ],
   "source": [
    "'''\n",
    "Q4.Create a subset of the dataset that contains only the world record cases for men’s shotput and women’s shotput\n",
    "\n",
    "'''\n",
    "df1 = df.loc[df['Event'] =='Mens Shotput']\n",
    "df2 = df.loc[df['Event'] =='Womens Shotput']\n",
    "subset = pd.concat([df1,df2])\n",
    "print(subset)"
   ]
  },
  {
   "cell_type": "code",
   "execution_count": 9,
   "id": "5353717c",
   "metadata": {},
   "outputs": [
    {
     "name": "stdout",
     "output_type": "stream",
     "text": [
      "<matplotlib.collections.PathCollection object at 0x7fd08bf8e880>\n",
      "<matplotlib.collections.PathCollection object at 0x7fd08bf9ccd0>\n"
     ]
    },
    {
     "data": {
      "image/png": "[encoded data removed]",
      "text/plain": [
       "<Figure size 432x288 with 1 Axes>"
      ]
     },
     "metadata": {
      "needs_background": "light"
     },
     "output_type": "display_data"
    }
   ],
   "source": [
    "'''\n",
    "Q5 Create a scatter plot of the year and record shotput distance one for men and one for women.\n",
    "\n",
    "'''\n",
    "df3_year = df1.loc[:,'Record']\n",
    "df3_distance = df1.loc[:,'Year']\n",
    "df4_year = df2.loc[:,'Record']\n",
    "df4_distance = df2.loc[:,'Year']\n",
    "print(plt.scatter(df3_year,df3_distance))\n",
    "print(plt.scatter(df4_year,df4_distance))"
   ]
  },
  {
   "cell_type": "code",
   "execution_count": 16,
   "id": "b6059585",
   "metadata": {},
   "outputs": [
    {
     "data": {
      "text/html": [
       "<div>\n",
       "<style scoped>\n",
       "    .dataframe tbody tr th:only-of-type {\n",
       "        vertical-align: middle;\n",
       "    }\n",
       "\n",
       "    .dataframe tbody tr th {\n",
       "        vertical-align: top;\n",
       "    }\n",
       "\n",
       "    .dataframe thead th {\n",
       "        text-align: right;\n",
       "    }\n",
       "</style>\n",
       "<table border=\"1\" class=\"dataframe\">\n",
       "  <thead>\n",
       "    <tr style=\"text-align: right;\">\n",
       "      <th></th>\n",
       "      <th>Record</th>\n",
       "    </tr>\n",
       "    <tr>\n",
       "      <th>Event</th>\n",
       "      <th></th>\n",
       "    </tr>\n",
       "  </thead>\n",
       "  <tbody>\n",
       "    <tr>\n",
       "      <th>Mens 100m</th>\n",
       "      <td>9.848824</td>\n",
       "    </tr>\n",
       "    <tr>\n",
       "      <th>Mens 800m</th>\n",
       "      <td>105.345833</td>\n",
       "    </tr>\n",
       "    <tr>\n",
       "      <th>Mens Mile</th>\n",
       "      <td>237.493750</td>\n",
       "    </tr>\n",
       "    <tr>\n",
       "      <th>Mens Polevault</th>\n",
       "      <td>5.608909</td>\n",
       "    </tr>\n",
       "    <tr>\n",
       "      <th>Mens Shotput</th>\n",
       "      <td>20.194872</td>\n",
       "    </tr>\n",
       "    <tr>\n",
       "      <th>Mens TripleJump</th>\n",
       "      <td>16.671200</td>\n",
       "    </tr>\n",
       "    <tr>\n",
       "      <th>Womens 100m</th>\n",
       "      <td>10.880000</td>\n",
       "    </tr>\n",
       "    <tr>\n",
       "      <th>Womens 800m</th>\n",
       "      <td>127.851724</td>\n",
       "    </tr>\n",
       "    <tr>\n",
       "      <th>Womens Mile</th>\n",
       "      <td>263.653846</td>\n",
       "    </tr>\n",
       "    <tr>\n",
       "      <th>Womens Shotput</th>\n",
       "      <td>19.139756</td>\n",
       "    </tr>\n",
       "  </tbody>\n",
       "</table>\n",
       "</div>"
      ],
      "text/plain": [
       "                     Record\n",
       "Event                      \n",
       "Mens 100m          9.848824\n",
       "Mens 800m        105.345833\n",
       "Mens Mile        237.493750\n",
       "Mens Polevault     5.608909\n",
       "Mens Shotput      20.194872\n",
       "Mens TripleJump   16.671200\n",
       "Womens 100m       10.880000\n",
       "Womens 800m      127.851724\n",
       "Womens Mile      263.653846\n",
       "Womens Shotput    19.139756"
      ]
     },
     "execution_count": 16,
     "metadata": {},
     "output_type": "execute_result"
    }
   ],
   "source": [
    "'''\n",
    "Q6 Find the average/mean  time for each event. How many athletes have time more than average in each event.\n",
    "'''\n",
    "df\n",
    "df.groupby('Event').agg({'Record':'mean'})"
   ]
  },
  {
   "cell_type": "code",
   "execution_count": 11,
   "id": "5c30ad84",
   "metadata": {},
   "outputs": [
    {
     "name": "stdout",
     "output_type": "stream",
     "text": [
      "0    Bob Hayes\n",
      "Name: Athlete, dtype: object\n",
      "17    Wyomia Tyus\n",
      "Name: Athlete, dtype: object\n"
     ]
    }
   ],
   "source": [
    "'''\n",
    "Q7 Select the athlete who took most time in men’s 100m  and women’s event.\n",
    "'''\n",
    "df\n",
    "df5 = df.loc[df['Event'] =='Mens 100m']\n",
    "df6 = df.loc[df['Event'] == 'Womens 100m']\n",
    "sortA = df5.sort_values(by ='Record',ascending =False)\n",
    "resultA = sortA.head(1)\n",
    "print(resultA['Athlete'])\n",
    "sortB = df6.sort_values(by ='Record',ascending = False)\n",
    "resultB = sortB.head(1)\n",
    "print(resultB['Athlete'])"
   ]
  },
  {
   "cell_type": "code",
   "execution_count": 12,
   "id": "eceb89a7",
   "metadata": {},
   "outputs": [
    {
     "name": "stdout",
     "output_type": "stream",
     "text": [
      "United States    11\n",
      "Name: Nationality, dtype: int64\n"
     ]
    }
   ],
   "source": [
    "'''\n",
    "Q8 Which country won maximum times of men’s 100m event?\n",
    "\n",
    "'''\n",
    "df7 = df.loc[df['Event'] ==\"Mens 100m\"]\n",
    "df8 = df7.loc[:,'Nationality']\n",
    "x = df8.value_counts().head(1)\n",
    "print(x)"
   ]
  },
  {
   "cell_type": "code",
   "execution_count": 13,
   "id": "161ee57e",
   "metadata": {},
   "outputs": [
    {
     "data": {
      "text/html": [
       "<div>\n",
       "<style scoped>\n",
       "    .dataframe tbody tr th:only-of-type {\n",
       "        vertical-align: middle;\n",
       "    }\n",
       "\n",
       "    .dataframe tbody tr th {\n",
       "        vertical-align: top;\n",
       "    }\n",
       "\n",
       "    .dataframe thead th {\n",
       "        text-align: right;\n",
       "    }\n",
       "</style>\n",
       "<table border=\"1\" class=\"dataframe\">\n",
       "  <thead>\n",
       "    <tr style=\"text-align: right;\">\n",
       "      <th></th>\n",
       "      <th>Athlete</th>\n",
       "    </tr>\n",
       "    <tr>\n",
       "      <th>Event</th>\n",
       "      <th></th>\n",
       "    </tr>\n",
       "  </thead>\n",
       "  <tbody>\n",
       "    <tr>\n",
       "      <th>Mens 100m</th>\n",
       "      <td>17</td>\n",
       "    </tr>\n",
       "    <tr>\n",
       "      <th>Mens 800m</th>\n",
       "      <td>24</td>\n",
       "    </tr>\n",
       "    <tr>\n",
       "      <th>Mens Mile</th>\n",
       "      <td>32</td>\n",
       "    </tr>\n",
       "    <tr>\n",
       "      <th>Mens Polevault</th>\n",
       "      <td>55</td>\n",
       "    </tr>\n",
       "    <tr>\n",
       "      <th>Mens Shotput</th>\n",
       "      <td>39</td>\n",
       "    </tr>\n",
       "    <tr>\n",
       "      <th>Mens TripleJump</th>\n",
       "      <td>25</td>\n",
       "    </tr>\n",
       "    <tr>\n",
       "      <th>Womens 100m</th>\n",
       "      <td>10</td>\n",
       "    </tr>\n",
       "    <tr>\n",
       "      <th>Womens 800m</th>\n",
       "      <td>29</td>\n",
       "    </tr>\n",
       "    <tr>\n",
       "      <th>Womens Mile</th>\n",
       "      <td>13</td>\n",
       "    </tr>\n",
       "    <tr>\n",
       "      <th>Womens Shotput</th>\n",
       "      <td>41</td>\n",
       "    </tr>\n",
       "  </tbody>\n",
       "</table>\n",
       "</div>"
      ],
      "text/plain": [
       "                 Athlete\n",
       "Event                   \n",
       "Mens 100m             17\n",
       "Mens 800m             24\n",
       "Mens Mile             32\n",
       "Mens Polevault        55\n",
       "Mens Shotput          39\n",
       "Mens TripleJump       25\n",
       "Womens 100m           10\n",
       "Womens 800m           29\n",
       "Womens Mile           13\n",
       "Womens Shotput        41"
      ]
     },
     "execution_count": 13,
     "metadata": {},
     "output_type": "execute_result"
    }
   ],
   "source": [
    "'''\n",
    "Q9 How many athletes are there in each event?\n",
    "\n",
    "'''\n",
    "df.groupby('Event').agg({'Athlete':'count'})"
   ]
  },
  {
   "cell_type": "code",
   "execution_count": null,
   "id": "4cc572c3",
   "metadata": {},
   "outputs": [],
   "source": []
  }
 ],
 "metadata": {
  "kernelspec": {
   "display_name": "Python 3 (ipykernel)",
   "language": "python",
   "name": "python3"
  },
  "language_info": {
   "codemirror_mode": {
    "name": "ipython",
    "version": 3
   },
   "file_extension": ".py",
   "mimetype": "text/x-python",
   "name": "python",
   "nbconvert_exporter": "python",
   "pygments_lexer": "ipython3",
   "version": "3.9.7"
  }
 },
 "nbformat": 4,
 "nbformat_minor": 5
}
